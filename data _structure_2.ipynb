{
 "cells": [
  {
   "cell_type": "code",
   "execution_count": 1,
   "id": "7b4d51ed-9a18-4330-b14e-a5c55e9af293",
   "metadata": {},
   "outputs": [],
   "source": [
    "#Write a code to reverse a string"
   ]
  },
  {
   "cell_type": "code",
   "execution_count": 2,
   "id": "b5d104f6-d287-4c72-bce7-aa4bd1b31d76",
   "metadata": {},
   "outputs": [
    {
     "data": {
      "text/plain": [
       "'zitihsk'"
      ]
     },
     "execution_count": 2,
     "metadata": {},
     "output_type": "execute_result"
    }
   ],
   "source": [
    "a=\"kshitiz\"\n",
    "a[::-1]"
   ]
  },
  {
   "cell_type": "code",
   "execution_count": null,
   "id": "a72bfeed-bce5-45ae-aded-a5029a543e75",
   "metadata": {},
   "outputs": [],
   "source": []
  },
  {
   "cell_type": "code",
   "execution_count": 3,
   "id": "f7829a7b-08db-4d9c-994c-80659a30e56a",
   "metadata": {},
   "outputs": [],
   "source": [
    "#Write a code to count the number of vowels in a string"
   ]
  },
  {
   "cell_type": "code",
   "execution_count": 4,
   "id": "472be751-8754-48a6-881c-6cfe68a317df",
   "metadata": {},
   "outputs": [
    {
     "data": {
      "text/plain": [
       "8"
      ]
     },
     "execution_count": 4,
     "metadata": {},
     "output_type": "execute_result"
    }
   ],
   "source": [
    "strings=\"India is the best country\"\n",
    "lower_str=strings.lower()\n",
    "count=0\n",
    "vow=[\"a\",\"e\",\"i\",\"o\",\"u\"]\n",
    "for char in lower_str:\n",
    "    if char in vow:\n",
    "        count+=1\n",
    "        \n",
    "count\n",
    "    \n"
   ]
  },
  {
   "cell_type": "code",
   "execution_count": null,
   "id": "5022b6ac-28dc-4601-a1bd-5c4cfbee0d47",
   "metadata": {},
   "outputs": [],
   "source": []
  },
  {
   "cell_type": "code",
   "execution_count": 5,
   "id": "c7a2c480-1ec9-4529-8da4-21d1e1df81c1",
   "metadata": {},
   "outputs": [],
   "source": [
    "#Write a code to check if a given string is a palindrome or no"
   ]
  },
  {
   "cell_type": "code",
   "execution_count": 6,
   "id": "8b2d045a-f2c8-4da5-b4fb-9d3cf3ad37ec",
   "metadata": {},
   "outputs": [
    {
     "data": {
      "text/plain": [
       "True"
      ]
     },
     "execution_count": 6,
     "metadata": {},
     "output_type": "execute_result"
    }
   ],
   "source": [
    "a=\"madam\"\n",
    "a==a[::-1]"
   ]
  },
  {
   "cell_type": "code",
   "execution_count": null,
   "id": "6e102f32-cad9-4396-9f10-086c46940366",
   "metadata": {},
   "outputs": [],
   "source": []
  },
  {
   "cell_type": "code",
   "execution_count": 7,
   "id": "d833aecc-5879-466d-9b30-519cab41ad99",
   "metadata": {},
   "outputs": [],
   "source": [
    "#Write a code to check if two given strings are anagrams of each other"
   ]
  },
  {
   "cell_type": "code",
   "execution_count": 8,
   "id": "d97b2b3b-1108-4257-a3cd-ab24d298f57b",
   "metadata": {},
   "outputs": [
    {
     "data": {
      "text/plain": [
       "True"
      ]
     },
     "execution_count": 8,
     "metadata": {},
     "output_type": "execute_result"
    }
   ],
   "source": [
    "a=\"spar\"\n",
    "b=\"rasp\"\n",
    "\n",
    "set(a)==set(b)"
   ]
  },
  {
   "cell_type": "code",
   "execution_count": null,
   "id": "d3ead296-fb01-4be4-8dea-fea2230ddd40",
   "metadata": {},
   "outputs": [],
   "source": []
  },
  {
   "cell_type": "code",
   "execution_count": 9,
   "id": "96f7ba73-d63e-41ae-a25b-7fd7ba51a23f",
   "metadata": {},
   "outputs": [],
   "source": [
    "#Write a code to find all occurrences of a given substring within another string"
   ]
  },
  {
   "cell_type": "code",
   "execution_count": 10,
   "id": "ac84e417-1c71-40bf-a044-3df895dde770",
   "metadata": {},
   "outputs": [
    {
     "data": {
      "text/plain": [
       "True"
      ]
     },
     "execution_count": 10,
     "metadata": {},
     "output_type": "execute_result"
    }
   ],
   "source": [
    "a=\"kshitiz\"\n",
    "b=\"kshitiz is good\"\n",
    "\n",
    "a in b"
   ]
  },
  {
   "cell_type": "code",
   "execution_count": null,
   "id": "1eaaacd1-6012-4a1b-87d2-611a9b2d2069",
   "metadata": {},
   "outputs": [],
   "source": []
  },
  {
   "cell_type": "code",
   "execution_count": 11,
   "id": "240b547a-2a8a-43df-88f4-92eeacb4fd2d",
   "metadata": {},
   "outputs": [],
   "source": [
    "#Write a code to perform basic string compression using the counts of repeated characters"
   ]
  },
  {
   "cell_type": "code",
   "execution_count": 12,
   "id": "794b7277-6a18-4b1d-a92c-8d3589cee041",
   "metadata": {},
   "outputs": [
    {
     "name": "stdout",
     "output_type": "stream",
     "text": [
      "a4b2c1d5"
     ]
    }
   ],
   "source": [
    "a=\"aaaabbcddddd\"\n",
    "l=[]\n",
    "w={}\n",
    "for i in a:\n",
    "    l.append(i)\n",
    "    \n",
    "for j in sorted(set(l)):\n",
    "    w[j]=l.count(j)\n",
    "for u in w.items():\n",
    "    print(u[0]+str(u[1]),end=\"\")   \n"
   ]
  },
  {
   "cell_type": "code",
   "execution_count": null,
   "id": "ee7263fa-d820-43ac-968f-0459ef829496",
   "metadata": {},
   "outputs": [],
   "source": []
  },
  {
   "cell_type": "code",
   "execution_count": 13,
   "id": "1c336d3e-f23b-47ec-bf20-4db5df09ce5f",
   "metadata": {},
   "outputs": [],
   "source": [
    "#Write a code to determine if a string has all unique characters"
   ]
  },
  {
   "cell_type": "code",
   "execution_count": 14,
   "id": "d5f3355e-2c86-43ef-a7b8-fb60f0cca6b4",
   "metadata": {},
   "outputs": [
    {
     "data": {
      "text/plain": [
       "False"
      ]
     },
     "execution_count": 14,
     "metadata": {},
     "output_type": "execute_result"
    }
   ],
   "source": [
    "a=\"kshitiz\"\n",
    "a==set(a)"
   ]
  },
  {
   "cell_type": "code",
   "execution_count": null,
   "id": "68af93bc-0f1b-40b6-b3ab-977a07f6a0dc",
   "metadata": {},
   "outputs": [],
   "source": []
  },
  {
   "cell_type": "code",
   "execution_count": 15,
   "id": "594ce308-7e35-4096-8351-12a0cb26999a",
   "metadata": {},
   "outputs": [],
   "source": [
    "#Write a code to convert a given string to uppercase or lowercase"
   ]
  },
  {
   "cell_type": "code",
   "execution_count": 16,
   "id": "4fc2ac99-1aad-4cdc-a690-be4835e2ed00",
   "metadata": {},
   "outputs": [
    {
     "data": {
      "text/plain": [
       "'KSHITIZ'"
      ]
     },
     "execution_count": 16,
     "metadata": {},
     "output_type": "execute_result"
    }
   ],
   "source": [
    "a=\"Kshitiz\"\n",
    "a.upper()"
   ]
  },
  {
   "cell_type": "code",
   "execution_count": 17,
   "id": "608d56fe-97de-4af7-9a4b-8fb518a14bed",
   "metadata": {},
   "outputs": [
    {
     "data": {
      "text/plain": [
       "'kshitiz'"
      ]
     },
     "execution_count": 17,
     "metadata": {},
     "output_type": "execute_result"
    }
   ],
   "source": [
    "a.lower()"
   ]
  },
  {
   "cell_type": "code",
   "execution_count": null,
   "id": "548b0c00-f466-4341-a3c9-8a2009742aa5",
   "metadata": {},
   "outputs": [],
   "source": []
  },
  {
   "cell_type": "code",
   "execution_count": 18,
   "id": "bfde0316-2c68-4903-b1c2-50e8df2f6a6f",
   "metadata": {},
   "outputs": [],
   "source": [
    "#Write a code to count the number of words in a string"
   ]
  },
  {
   "cell_type": "code",
   "execution_count": 19,
   "id": "189e1c16-2d27-4745-a985-fd1ddcf92f27",
   "metadata": {},
   "outputs": [
    {
     "data": {
      "text/plain": [
       "5"
      ]
     },
     "execution_count": 19,
     "metadata": {},
     "output_type": "execute_result"
    }
   ],
   "source": [
    "a=\"kshitiz is a good boy\"\n",
    "\n",
    "len(a.split())"
   ]
  },
  {
   "cell_type": "code",
   "execution_count": null,
   "id": "0712be33-5dd7-4f7c-8d47-7a148c1c4b47",
   "metadata": {},
   "outputs": [],
   "source": []
  },
  {
   "cell_type": "code",
   "execution_count": 20,
   "id": "1c40cc28-3a91-4c9f-9dc8-802fa154dafb",
   "metadata": {},
   "outputs": [],
   "source": [
    "#Write a code to concatenate two strings without using the + operator"
   ]
  },
  {
   "cell_type": "code",
   "execution_count": 21,
   "id": "64af5289-8060-43d6-bc4b-8af1895d353b",
   "metadata": {},
   "outputs": [
    {
     "name": "stdout",
     "output_type": "stream",
     "text": [
      "kshitiz gupta\n"
     ]
    }
   ],
   "source": [
    "a=\"kshitiz\"\n",
    "b=\"gupta\"\n",
    "\n",
    "print(f\"{a} {b}\")"
   ]
  },
  {
   "cell_type": "code",
   "execution_count": null,
   "id": "cb5509cd-b911-4548-90cf-005954d34d9b",
   "metadata": {},
   "outputs": [],
   "source": []
  },
  {
   "cell_type": "code",
   "execution_count": 22,
   "id": "99046675-a69a-49e5-b42a-5fca802c2f3d",
   "metadata": {},
   "outputs": [],
   "source": [
    "#Write a code to remove all occurrences of a specific element from a list"
   ]
  },
  {
   "cell_type": "code",
   "execution_count": 23,
   "id": "ec31f83e-cc7a-411c-bf98-33adbbe3bb5f",
   "metadata": {},
   "outputs": [
    {
     "data": {
      "text/plain": [
       "[2, 3, 4, 5, 6, 7, 4, 7]"
      ]
     },
     "execution_count": 23,
     "metadata": {},
     "output_type": "execute_result"
    }
   ],
   "source": [
    "a=[1,2,3,4,5,6,1,7,1,4,1,7]\n",
    "#to remove one\n",
    "for i in a:\n",
    "    if i ==1:\n",
    "        a.remove(i)\n",
    "a"
   ]
  },
  {
   "cell_type": "code",
   "execution_count": null,
   "id": "520e02a7-6bdb-4767-aa5d-8e3a2a9335ea",
   "metadata": {},
   "outputs": [],
   "source": []
  },
  {
   "cell_type": "code",
   "execution_count": 24,
   "id": "2140a597-1f45-4cb3-878f-a2f37a77ee73",
   "metadata": {},
   "outputs": [],
   "source": [
    "#Implement a code to find the second largest number in a given list of integers"
   ]
  },
  {
   "cell_type": "code",
   "execution_count": 25,
   "id": "d45573e1-3fff-40b6-afb7-5b4e9515f8cd",
   "metadata": {},
   "outputs": [
    {
     "data": {
      "text/plain": [
       "65"
      ]
     },
     "execution_count": 25,
     "metadata": {},
     "output_type": "execute_result"
    }
   ],
   "source": [
    "a=[12,13,17,65,45,100]\n",
    "sec_max=0\n",
    "m=max(a)\n",
    "for i in a:\n",
    "    if i>sec_max and i<m:\n",
    "        sec_max=i\n",
    "sec_max"
   ]
  },
  {
   "cell_type": "code",
   "execution_count": null,
   "id": "219562af-e10e-4a06-8945-a4d2511d4e82",
   "metadata": {},
   "outputs": [],
   "source": []
  },
  {
   "cell_type": "code",
   "execution_count": 26,
   "id": "83807d12-eb0b-4e4c-b171-a0176c117d8e",
   "metadata": {},
   "outputs": [],
   "source": [
    "#Create a code to count the occurrences of each element in a list and return a dictionary with elements as keys and their counts as values"
   ]
  },
  {
   "cell_type": "code",
   "execution_count": 27,
   "id": "aac44b1d-3e4d-49b0-a346-69b6f892df10",
   "metadata": {},
   "outputs": [
    {
     "data": {
      "text/plain": [
       "{0: 1, 1: 2, 2: 1, 3: 4, 4: 1, 5: 4, 6: 5, 7: 3, 8: 2, 9: 2}"
      ]
     },
     "execution_count": 27,
     "metadata": {},
     "output_type": "execute_result"
    }
   ],
   "source": [
    "lis=[1,2,3,1,4,3,5,6,5,6,7,5,3,6,8,7,6,9,8,0,5,3,6,7,9]\n",
    "a={}\n",
    "e=set(lis)\n",
    "\n",
    "for i in e:\n",
    "    a[i]=lis.count(i)\n",
    "a  "
   ]
  },
  {
   "cell_type": "code",
   "execution_count": null,
   "id": "42c1ae2e-a85d-43ef-8f5b-68162b1ec48a",
   "metadata": {},
   "outputs": [],
   "source": []
  },
  {
   "cell_type": "code",
   "execution_count": 28,
   "id": "290ba11c-b9ca-4d1a-a0de-139edfea902f",
   "metadata": {},
   "outputs": [],
   "source": [
    "#Write a code to reverse a list in-place without using any built-in reverse functions"
   ]
  },
  {
   "cell_type": "code",
   "execution_count": 29,
   "id": "15c7622e-424d-4447-a4cf-c3708ab138a4",
   "metadata": {},
   "outputs": [
    {
     "data": {
      "text/plain": [
       "['y', 'k', 'v', 'g', 'a']"
      ]
     },
     "execution_count": 29,
     "metadata": {},
     "output_type": "execute_result"
    }
   ],
   "source": [
    "q=[\"a\",\"g\",\"v\",\"k\",\"y\"]\n",
    "rev=[]\n",
    "for i in range(len(q)):\n",
    "    p=q.pop() \n",
    "    rev.append(p)\n",
    "rev\n",
    "    "
   ]
  },
  {
   "cell_type": "code",
   "execution_count": null,
   "id": "745c4ad3-e943-4c33-8d9e-167a9c84503b",
   "metadata": {},
   "outputs": [],
   "source": []
  },
  {
   "cell_type": "code",
   "execution_count": 30,
   "id": "a015ae65-4444-4a24-95af-b96f0fb705ab",
   "metadata": {},
   "outputs": [],
   "source": [
    "#Implement a code to find and remove duplicates from a list while preserving the original order of elements"
   ]
  },
  {
   "cell_type": "code",
   "execution_count": 31,
   "id": "dde43439-9de9-4d91-98d0-60551fcd6b39",
   "metadata": {},
   "outputs": [
    {
     "data": {
      "text/plain": [
       "[1, 2, 3, 4, 5, 6, 7, 8]"
      ]
     },
     "execution_count": 31,
     "metadata": {},
     "output_type": "execute_result"
    }
   ],
   "source": [
    "a=[1,2,3,4,5,3,4,6,2,7,8,4,5]\n",
    "z=[]\n",
    "for i in a:\n",
    "    if i not in z:\n",
    "        z.append(i)\n",
    "z"
   ]
  },
  {
   "cell_type": "code",
   "execution_count": null,
   "id": "930692b0-b937-4980-bc3e-181486a8fd4d",
   "metadata": {},
   "outputs": [],
   "source": []
  },
  {
   "cell_type": "code",
   "execution_count": 32,
   "id": "ba1acdf8-01ce-4de9-b46b-9e9513325288",
   "metadata": {},
   "outputs": [],
   "source": [
    "#Create a code to check if a given list is sorted (either in ascending or descending order) or not"
   ]
  },
  {
   "cell_type": "code",
   "execution_count": 33,
   "id": "aef352c2-77c8-4582-a5be-c30f6a6bdab8",
   "metadata": {},
   "outputs": [
    {
     "data": {
      "text/plain": [
       "False"
      ]
     },
     "execution_count": 33,
     "metadata": {},
     "output_type": "execute_result"
    }
   ],
   "source": [
    "q=[1,4,2,6,3,8,6,9,0] #unsorted list \n",
    "q==sorted(q)"
   ]
  },
  {
   "cell_type": "code",
   "execution_count": null,
   "id": "40632a19-5f0d-4af4-876d-12cb3b29a448",
   "metadata": {},
   "outputs": [],
   "source": []
  },
  {
   "cell_type": "code",
   "execution_count": 34,
   "id": "3f5f55d3-e2b3-4052-8dec-30802964a3b9",
   "metadata": {},
   "outputs": [],
   "source": [
    "#Write a code to merge two sorted lists into a single sorted list"
   ]
  },
  {
   "cell_type": "code",
   "execution_count": 35,
   "id": "35d0640f-fbe9-4d41-981e-6bb7ef76b0c4",
   "metadata": {},
   "outputs": [
    {
     "data": {
      "text/plain": [
       "[1, 1, 2, 3, 4, 4, 5, 7, 9]"
      ]
     },
     "execution_count": 35,
     "metadata": {},
     "output_type": "execute_result"
    }
   ],
   "source": [
    "a=[1,2,3,4,5]\n",
    "b=[1,4,7,9]\n",
    "\n",
    "sorted(a+b)"
   ]
  },
  {
   "cell_type": "code",
   "execution_count": null,
   "id": "ae8f0fb6-857c-4975-a07d-a2f9a5a30e65",
   "metadata": {},
   "outputs": [],
   "source": []
  },
  {
   "cell_type": "code",
   "execution_count": 36,
   "id": "dbb40533-ab1c-4719-ac8f-b844985d8c54",
   "metadata": {},
   "outputs": [],
   "source": [
    "# Implement a code to find the intersection of two given lists"
   ]
  },
  {
   "cell_type": "code",
   "execution_count": 37,
   "id": "e0e746e0-6fe9-4492-97e0-e779b4437880",
   "metadata": {},
   "outputs": [
    {
     "data": {
      "text/plain": [
       "{1, 3, 4, 6, 7}"
      ]
     },
     "execution_count": 37,
     "metadata": {},
     "output_type": "execute_result"
    }
   ],
   "source": [
    "a=[1,3,5,2,6,7,4]\n",
    "b=[1,4,6,3,7,6,0,9,4,3]\n",
    "\n",
    "set(a).intersection(set(b))"
   ]
  },
  {
   "cell_type": "code",
   "execution_count": null,
   "id": "9239fffa-e28b-45a9-afd3-e127a50fca43",
   "metadata": {},
   "outputs": [],
   "source": []
  },
  {
   "cell_type": "code",
   "execution_count": 38,
   "id": "fe728c65-e1b9-4d26-985a-3ae54b2aea74",
   "metadata": {},
   "outputs": [],
   "source": [
    "#Create a code to find the union of two lists without duplicates"
   ]
  },
  {
   "cell_type": "code",
   "execution_count": 39,
   "id": "97c058f2-aaa9-43ac-ab96-c2d6847deece",
   "metadata": {},
   "outputs": [
    {
     "data": {
      "text/plain": [
       "{0, 1, 2, 3, 4, 5, 6, 7, 9}"
      ]
     },
     "execution_count": 39,
     "metadata": {},
     "output_type": "execute_result"
    }
   ],
   "source": [
    "a=[1,3,5,2,6,7,4]\n",
    "b=[1,4,6,3,7,6,0,9,4,3]\n",
    "\n",
    "set(a).union(set(b))"
   ]
  },
  {
   "cell_type": "code",
   "execution_count": null,
   "id": "3080403e-d9af-406a-9c75-3e5150506cd7",
   "metadata": {},
   "outputs": [],
   "source": []
  },
  {
   "cell_type": "code",
   "execution_count": 1,
   "id": "a161a25b-9b1a-4f49-93d0-aba9d11dd42d",
   "metadata": {},
   "outputs": [],
   "source": [
    "#Write a code to shuffle a given list randomly without using any built-in shuffle function"
   ]
  },
  {
   "cell_type": "code",
   "execution_count": 6,
   "id": "5ce08a73-aad4-4d16-b108-6e5411f20e77",
   "metadata": {},
   "outputs": [
    {
     "data": {
      "text/plain": [
       "[3, 4, 6, 56, 7, 6, 4, 2, 67, 1, 8]"
      ]
     },
     "execution_count": 6,
     "metadata": {},
     "output_type": "execute_result"
    }
   ],
   "source": [
    "import random\n",
    "a=[1,4,6,3,7,2,8,6,67,56,4]\n",
    "t=[]\n",
    "while len(a)!=len(t):\n",
    "    b=random.randint(0,len(a)-1)\n",
    "    if t.count(a[b]) !=a.count(a[b]):\n",
    "        t.append(a[b])\n",
    "    \n",
    "t"
   ]
  },
  {
   "cell_type": "code",
   "execution_count": null,
   "id": "2f598152-4284-41e8-882f-968394257d90",
   "metadata": {},
   "outputs": [],
   "source": []
  },
  {
   "cell_type": "code",
   "execution_count": 7,
   "id": "ebf48446-78aa-4690-b703-04618ea32ae5",
   "metadata": {},
   "outputs": [],
   "source": [
    "#Write a code that takes two tuples as input and returns a new tuple containing elements that are common to both input tuples"
   ]
  },
  {
   "cell_type": "code",
   "execution_count": 24,
   "id": "bee58850-ac51-42ee-8174-cb9a4502317f",
   "metadata": {},
   "outputs": [
    {
     "name": "stdin",
     "output_type": "stream",
     "text": [
      "enter 1 1425478\n",
      "enter 2 24852\n"
     ]
    },
    {
     "data": {
      "text/plain": [
       "('4', '2', '5', '8')"
      ]
     },
     "execution_count": 24,
     "metadata": {},
     "output_type": "execute_result"
    }
   ],
   "source": [
    "a=tuple(input(\"enter 1\"))\n",
    "b=tuple(input(\"enter 2\"))\n",
    "c=tuple(set(a).intersection(set(b)))\n",
    "\n",
    "c"
   ]
  },
  {
   "cell_type": "code",
   "execution_count": null,
   "id": "a6254384-4835-42e1-9bed-de1745af77ff",
   "metadata": {},
   "outputs": [],
   "source": []
  },
  {
   "cell_type": "code",
   "execution_count": 25,
   "id": "c58b5423-68d7-4c6b-b124-99e07cc6db56",
   "metadata": {},
   "outputs": [],
   "source": [
    "#Create a code that prompts the user to enter two sets of integers separated by commas. Then, print the intersection of these two sets"
   ]
  },
  {
   "cell_type": "code",
   "execution_count": 34,
   "id": "b00a3b56-6e4b-42c3-8de9-7e7cc072a9d6",
   "metadata": {},
   "outputs": [
    {
     "name": "stdin",
     "output_type": "stream",
     "text": [
      "enter 1,8,5,7,2,\n",
      "enter 1,8,5,36,\n"
     ]
    },
    {
     "data": {
      "text/plain": [
       "{'1', '5', '8'}"
      ]
     },
     "execution_count": 34,
     "metadata": {},
     "output_type": "execute_result"
    }
   ],
   "source": [
    "a=set(input(\"enter\"))\n",
    "a.remove(\",\")\n",
    "b=set(input(\"enter\"))\n",
    "b.remove(\",\")\n",
    "\n",
    "a.intersection(b)"
   ]
  },
  {
   "cell_type": "code",
   "execution_count": null,
   "id": "55c95725-2673-44c3-a847-a97c89afecf2",
   "metadata": {},
   "outputs": [],
   "source": []
  },
  {
   "cell_type": "code",
   "execution_count": 35,
   "id": "1c473324-662f-48ee-b4d8-f7f79df89da2",
   "metadata": {},
   "outputs": [],
   "source": [
    "#Write a code to concatenate two tuples. The function should take two tuples as input and return a new tuple containing elements from both input tuples."
   ]
  },
  {
   "cell_type": "code",
   "execution_count": 3,
   "id": "c64126ba-5380-48e4-8bbb-cc44d2516477",
   "metadata": {},
   "outputs": [
    {
     "name": "stdin",
     "output_type": "stream",
     "text": [
      "enter 1 123\n",
      "enter 1 545\n"
     ]
    },
    {
     "name": "stdout",
     "output_type": "stream",
     "text": [
      "('1', '2', '3', '5', '4', '5')"
     ]
    }
   ],
   "source": [
    "def con_tup():\n",
    "    a=tuple(input(\"enter 1\"))\n",
    "    b=tuple(input(\"enter 1\"))\n",
    "    print (a+b ,end=\"\")\n",
    "\n",
    "con_tup()"
   ]
  },
  {
   "cell_type": "code",
   "execution_count": null,
   "id": "edace936-dcbb-4cee-b5be-9b7a29cbab41",
   "metadata": {},
   "outputs": [],
   "source": []
  },
  {
   "cell_type": "code",
   "execution_count": 8,
   "id": "771a10e8-3b97-41a2-904f-24d20148c5ae",
   "metadata": {},
   "outputs": [],
   "source": [
    "#Create a code that takes a tuple and two integers as input. The function should return a new tuple containing elements from the original tuple within the specified range of indices"
   ]
  },
  {
   "cell_type": "code",
   "execution_count": 21,
   "id": "25616942-6bf9-4128-9e4b-125d2b20a15b",
   "metadata": {},
   "outputs": [
    {
     "name": "stdin",
     "output_type": "stream",
     "text": [
      "enter tuple 1235482477\n",
      "enter first int 1\n",
      "enter seccond int 6\n"
     ]
    },
    {
     "data": {
      "text/plain": [
       "('2', '3', '5', '4', '2', '4')"
      ]
     },
     "execution_count": 21,
     "metadata": {},
     "output_type": "execute_result"
    }
   ],
   "source": [
    "a=tuple(input(\"enter tuple\"))\n",
    "b=int(input(\"enter first int\"))\n",
    "c=int(input(\"enter seccond int\"))\n",
    "d=[]\n",
    "\n",
    "def r():\n",
    "    for i in a:\n",
    "        if b<int(i)<c:\n",
    "            d.append(i)\n",
    "    return tuple(d)\n",
    "r()\n",
    "    \n",
    "    "
   ]
  },
  {
   "cell_type": "code",
   "execution_count": null,
   "id": "5536bf36-5c49-4ede-a74c-ad59d59d89f9",
   "metadata": {},
   "outputs": [],
   "source": []
  },
  {
   "cell_type": "code",
   "execution_count": 23,
   "id": "5333eba2-2592-41c5-b47b-898b2c4526f0",
   "metadata": {},
   "outputs": [],
   "source": [
    "#Write a code that prompts the user to input two sets of characters. Then, print the union of these two sets"
   ]
  },
  {
   "cell_type": "code",
   "execution_count": 26,
   "id": "f537c17e-b8e0-4194-a0a9-df5c54f06af1",
   "metadata": {},
   "outputs": [
    {
     "name": "stdin",
     "output_type": "stream",
     "text": [
      "enter first ncdsbcyb\n",
      "enter second  amzjancuebc\n"
     ]
    },
    {
     "data": {
      "text/plain": [
       "{'a', 'b', 'c', 'd', 'e', 'j', 'm', 'n', 's', 'u', 'y', 'z'}"
      ]
     },
     "execution_count": 26,
     "metadata": {},
     "output_type": "execute_result"
    }
   ],
   "source": [
    "a=set(input(\"enter first\"))\n",
    "b=set(input(\"enter second \"))\n",
    "a.union(b)"
   ]
  },
  {
   "cell_type": "code",
   "execution_count": null,
   "id": "5b8d8e7d-6709-4815-ae0f-b271178fbcef",
   "metadata": {},
   "outputs": [],
   "source": []
  },
  {
   "cell_type": "code",
   "execution_count": 27,
   "id": "98cda907-d1fb-4089-8ec1-8bb497472cd6",
   "metadata": {},
   "outputs": [],
   "source": [
    "#Develop a code that takes a tuple of integers as input. The function should return the maximum and minimum values from the tuple using tuple unpacking"
   ]
  },
  {
   "cell_type": "code",
   "execution_count": 32,
   "id": "5c3344ce-e482-4c90-9b6a-538bde3fcc18",
   "metadata": {},
   "outputs": [
    {
     "name": "stdin",
     "output_type": "stream",
     "text": [
      "enter  17415174\n"
     ]
    },
    {
     "data": {
      "text/plain": [
       "('1', '7')"
      ]
     },
     "execution_count": 32,
     "metadata": {},
     "output_type": "execute_result"
    }
   ],
   "source": [
    "def max_min():\n",
    "    a=tuple(input(\"enter \"))\n",
    "    return (min(a),max(a))\n",
    "\n",
    "max_min()\n",
    "    \n",
    "    \n",
    "    "
   ]
  },
  {
   "cell_type": "code",
   "execution_count": null,
   "id": "bcc689c7-110c-4595-bd24-538a9f91c318",
   "metadata": {},
   "outputs": [],
   "source": []
  },
  {
   "cell_type": "code",
   "execution_count": 34,
   "id": "58cca400-c868-40aa-b676-fea753ab8892",
   "metadata": {},
   "outputs": [],
   "source": [
    "# Create a code that defines two sets of integers. Then, print the union, intersection, and difference of these two sets"
   ]
  },
  {
   "cell_type": "code",
   "execution_count": 37,
   "id": "7ed290c4-2bd4-4b55-bec4-990867a70051",
   "metadata": {},
   "outputs": [
    {
     "data": {
      "text/plain": [
       "({1, 2, 3, 4, 6, 7, 8, 23, 34, 45, 56, 67}, {1, 3, 4, 6}, {2, 7, 8, 34, 56})"
      ]
     },
     "execution_count": 37,
     "metadata": {},
     "output_type": "execute_result"
    }
   ],
   "source": [
    "a={1,34,56,2,3,7,8,6,4,7}\n",
    "b={1,4,6,3,23,45,67}\n",
    "a.union(b),a.intersection(b),a.difference(b)"
   ]
  },
  {
   "cell_type": "code",
   "execution_count": null,
   "id": "f12986b5-bd3c-4571-b18d-c2d5ffc10b11",
   "metadata": {},
   "outputs": [],
   "source": []
  },
  {
   "cell_type": "code",
   "execution_count": 38,
   "id": "ae0ec959-5849-49d2-9eac-6e8c78365881",
   "metadata": {},
   "outputs": [],
   "source": [
    "# Write a code that takes a tuple and an element as input. The function should return the count of occurrences of the given element in the tuple\n"
   ]
  },
  {
   "cell_type": "code",
   "execution_count": 40,
   "id": "f4017ba6-dc22-4d0f-b4b0-724ca681b4df",
   "metadata": {},
   "outputs": [
    {
     "name": "stdin",
     "output_type": "stream",
     "text": [
      "enter tuple 01417418741874411478\n",
      "enter int 4\n"
     ]
    },
    {
     "data": {
      "text/plain": [
       "6"
      ]
     },
     "execution_count": 40,
     "metadata": {},
     "output_type": "execute_result"
    }
   ],
   "source": [
    "a=tuple(input(\"enter tuple\"))\n",
    "b=(input(\"enter int\"))\n",
    "a.count(b)"
   ]
  },
  {
   "cell_type": "code",
   "execution_count": null,
   "id": "c8631fe4-f4a5-41c6-a2bb-843dd17c7d95",
   "metadata": {},
   "outputs": [],
   "source": []
  },
  {
   "cell_type": "code",
   "execution_count": 41,
   "id": "3378923f-7a48-4cd1-a689-c1f08503850c",
   "metadata": {},
   "outputs": [
    {
     "name": "stdin",
     "output_type": "stream",
     "text": [
      "enter vnenvncmsijdnciwhv\n",
      "enter jcnhiwebvwhbviwb\n"
     ]
    },
    {
     "data": {
      "text/plain": [
       "{'b', 'd', 'm', 's'}"
      ]
     },
     "execution_count": 41,
     "metadata": {},
     "output_type": "execute_result"
    }
   ],
   "source": [
    "a=set(input(\"enter\"))\n",
    "b=set(input(\"enter\"))\n",
    "a.symmetric_difference(b)\n"
   ]
  },
  {
   "cell_type": "code",
   "execution_count": null,
   "id": "cff2203a-2a1b-4b09-b182-f38b9f5aa947",
   "metadata": {},
   "outputs": [],
   "source": []
  },
  {
   "cell_type": "code",
   "execution_count": 42,
   "id": "86d4714d-0268-4920-b12e-4ecf80c5dc80",
   "metadata": {},
   "outputs": [],
   "source": [
    "# Write a code that takes a list of words as input and returns a dictionary where the keys are unique words and the values are the frequencies of those words in the input lis"
   ]
  },
  {
   "cell_type": "code",
   "execution_count": 52,
   "id": "afe7f64d-4c6d-4f4b-85ad-6e8828759edb",
   "metadata": {},
   "outputs": [
    {
     "name": "stdin",
     "output_type": "stream",
     "text": [
      "enter bcsdbvgbdhsnvhbeuvbwunvii\n"
     ]
    },
    {
     "data": {
      "text/plain": [
       "{'b': 5,\n",
       " 'c': 1,\n",
       " 's': 2,\n",
       " 'd': 2,\n",
       " 'v': 4,\n",
       " 'g': 1,\n",
       " 'h': 2,\n",
       " 'n': 2,\n",
       " 'e': 1,\n",
       " 'u': 2,\n",
       " 'w': 1,\n",
       " 'i': 2}"
      ]
     },
     "execution_count": 52,
     "metadata": {},
     "output_type": "execute_result"
    }
   ],
   "source": [
    "a=list(input(\"enter\"))\n",
    "b=set(a)\n",
    "c={}\n",
    "for i in a:\n",
    "    c[i]=a.count(i)\n",
    "c\n",
    "    "
   ]
  },
  {
   "cell_type": "code",
   "execution_count": null,
   "id": "2736776e-67e8-4823-9011-07b379d42901",
   "metadata": {},
   "outputs": [],
   "source": []
  },
  {
   "cell_type": "code",
   "execution_count": 53,
   "id": "684df872-71a2-49f9-8c08-bb38ce9088b6",
   "metadata": {},
   "outputs": [],
   "source": [
    "# Write a code that takes two dictionaries as input and merges them into a single dictionary. If there are common keys, the values should be added togethe"
   ]
  },
  {
   "cell_type": "code",
   "execution_count": 11,
   "id": "b5149641-2e14-4ffb-9f5c-90e03b4a5c8d",
   "metadata": {},
   "outputs": [
    {
     "name": "stdin",
     "output_type": "stream",
     "text": [
      "Enter a key (or type 'done' to finish):  1\n",
      "Enter a value for key '1':  a\n",
      "Enter a key (or type 'done' to finish):  2\n",
      "Enter a value for key '2':  b\n",
      "Enter a key (or type 'done' to finish):  done\n",
      "Enter a key (or type 'done' to finish):  3\n",
      "Enter a value for key '3':  r\n",
      "Enter a key (or type 'done' to finish):  5\n",
      "Enter a value for key '5':  t\n",
      "Enter a key (or type 'done' to finish):  1\n",
      "Enter a value for key '1':  d\n",
      "Enter a key (or type 'done' to finish):  done\n"
     ]
    },
    {
     "data": {
      "text/plain": [
       "{'1': 'd', '2': 'b', '3': 'r', '5': 't'}"
      ]
     },
     "execution_count": 11,
     "metadata": {},
     "output_type": "execute_result"
    }
   ],
   "source": [
    "def dict_1():\n",
    "    dictionary = {}\n",
    "    while True:\n",
    "        key = input(\"Enter a key (or type 'done' to finish): \")\n",
    "        if key.lower() == 'done':\n",
    "            break\n",
    "        value = input(f\"Enter a value for key '{key}': \")\n",
    "        dictionary[key] = value\n",
    "    return dictionary\n",
    "d1=dict_1()\n",
    "\n",
    "\n",
    "def dict_2():\n",
    "    dictionary = {}\n",
    "    while True:\n",
    "        key = input(\"Enter a key (or type 'done' to finish): \")\n",
    "        if key.lower() == 'done':\n",
    "            break\n",
    "        value = input(f\"Enter a value for key '{key}': \")\n",
    "        dictionary[key] = value\n",
    "    return dictionary\n",
    "d2=dict_2()\n",
    "\n",
    "d1.update(d2)\n",
    "d1"
   ]
  }
 ],
 "metadata": {
  "kernelspec": {
   "display_name": "Python 3 (ipykernel)",
   "language": "python",
   "name": "python3"
  },
  "language_info": {
   "codemirror_mode": {
    "name": "ipython",
    "version": 3
   },
   "file_extension": ".py",
   "mimetype": "text/x-python",
   "name": "python",
   "nbconvert_exporter": "python",
   "pygments_lexer": "ipython3",
   "version": "3.10.8"
  }
 },
 "nbformat": 4,
 "nbformat_minor": 5
}
